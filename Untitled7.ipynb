{
 "cells": [
  {
   "cell_type": "code",
   "execution_count": 2,
   "id": "registered-comment",
   "metadata": {},
   "outputs": [
    {
     "name": "stderr",
     "output_type": "stream",
     "text": [
      "/home/valdemar/anaconda3/envs/master_env/lib/python3.8/site-packages/torch/cuda/__init__.py:52: UserWarning: CUDA initialization: Found no NVIDIA driver on your system. Please check that you have an NVIDIA GPU and installed a driver from http://www.nvidia.com/Download/index.aspx (Triggered internally at  /opt/conda/conda-bld/pytorch_1603729062494/work/c10/cuda/CUDAFunctions.cpp:100.)\n",
      "  return torch._C._cuda_getDeviceCount() > 0\n"
     ]
    }
   ],
   "source": [
    "import torch_geometric.transforms\n",
    "from torch_geometric.nn import knn_graph\n",
    "import torch_geometric.data\n",
    "import torch \n",
    "from torch_geometric.data import Data, ClusterData\n",
    "import numpy as np\n",
    "import pickle\n",
    "from torch_geometric.data import DataLoader\n",
    "from torch.utils.data import random_split\n",
    "import random\n",
    "from torch.nn import Linear\n",
    "import torch.nn.functional as F\n",
    "from torch_geometric.nn import GCNConv, GraphConv\n",
    "from torch_geometric.nn import max_pool, graclus, avg_pool\n",
    "\n",
    "from torch_geometric.nn import global_mean_pool\n",
    "from torch_geometric.data import Batch\n",
    "\n"
   ]
  },
  {
   "cell_type": "code",
   "execution_count": 3,
   "id": "revised-identification",
   "metadata": {},
   "outputs": [],
   "source": [
    "dataset = torch.load('defect_matrices/graphs.pt')"
   ]
  },
  {
   "cell_type": "code",
   "execution_count": 170,
   "id": "directed-semiconductor",
   "metadata": {},
   "outputs": [
    {
     "name": "stdout",
     "output_type": "stream",
     "text": [
      "First graph attributes:\n",
      "Data(edge_attr=[12], edge_index=[2, 12], x=[4, 2], y=[1, 4])\n",
      "=============================================================\n",
      "Number of nodes: 4\n",
      "Number of edges: 12\n",
      "Average node degree: 3.00\n",
      "Number of training graphs: 800\n",
      "Number of test graphs: 160\n"
     ]
    }
   ],
   "source": [
    "print(f'First graph attributes:')\n",
    "data = dataset[0]  # Get the first graph object.\n",
    "#print()\n",
    "print(data)\n",
    "print('=============================================================')\n",
    "\n",
    "# Gather some statistics about the first graph.\n",
    "print(f'Number of nodes: {data.num_nodes}')\n",
    "print(f'Number of edges: {data.num_edges}')\n",
    "print(f'Average node degree: {data.num_edges / data.num_nodes:.2f}')\n",
    "\n",
    "torch.manual_seed(1234)\n",
    "train_dataset = dataset[:800]\n",
    "test_dataset = dataset[160:320]\n",
    "\n",
    "print(f'Number of training graphs: {len(train_dataset)}')\n",
    "print(f'Number of test graphs: {len(test_dataset)}')"
   ]
  },
  {
   "cell_type": "code",
   "execution_count": 6,
   "id": "proprietary-pizza",
   "metadata": {},
   "outputs": [
    {
     "data": {
      "text/plain": [
       "867"
      ]
     },
     "execution_count": 6,
     "metadata": {},
     "output_type": "execute_result"
    }
   ],
   "source": []
  },
  {
   "cell_type": "code",
   "execution_count": 249,
   "id": "personal-geography",
   "metadata": {},
   "outputs": [
    {
     "name": "stdout",
     "output_type": "stream",
     "text": [
      "10\n",
      "50\n"
     ]
    }
   ],
   "source": [
    "train_loader = DataLoader(train_dataset, batch_size=16, shuffle=True)\n",
    "test_loader = DataLoader(test_dataset, batch_size=16, shuffle=False)\n",
    "print(len(test_loader))\n",
    "print(len(train_loader))"
   ]
  },
  {
   "cell_type": "code",
   "execution_count": 295,
   "id": "interstate-johnson",
   "metadata": {},
   "outputs": [
    {
     "name": "stdout",
     "output_type": "stream",
     "text": [
      "GCN(\n",
      "  (conv1): GraphConv(2, 16)\n",
      "  (conv2): GraphConv(16, 16)\n",
      "  (lin): Linear(in_features=16, out_features=8, bias=True)\n",
      "  (lin2): Linear(in_features=8, out_features=4, bias=True)\n",
      ")\n"
     ]
    }
   ],
   "source": [
    "class GCN(torch.nn.Module):\n",
    "    def __init__(self, hidden_channels):\n",
    "        super(GCN, self).__init__()\n",
    "        #torch.manual_seed(12345)\n",
    "        self.conv1 = GraphConv(2, hidden_channels,aggr = 'mean')\n",
    "        self.conv2 = GraphConv(hidden_channels, hidden_channels,aggr = 'mean')\n",
    "        \n",
    "        \n",
    "        self.lin = Linear(hidden_channels,int(hidden_channels*0.5))\n",
    "        #self.lin = Linear(hidden_channels, int(hidden_channels*0.5))\n",
    "        self.lin2 = Linear(int(hidden_channels*0.5),4) \n",
    "       # self.lin3 = Linear(int(hidden_channels*0.25),4) \n",
    "\n",
    "    def forward(self, data):#x, edge_index, batch,edge_attr):\n",
    "        x, edge_index, edge_weight, batch = data.x, data.edge_index,data.edge_attr, data.batch\n",
    "        \n",
    "        x = self.conv1(x, edge_index, edge_weight=edge_weight)\n",
    "        #print(x)\n",
    "        #x = x.relu()\n",
    "        \n",
    "        #cluster = graclus(edge_index, weight=edge_weight, num_nodes=x.size(0))\n",
    "        #data = Batch(x=x, edge_index=edge_index, edge_attr=edge_weight, batch=batch)\n",
    "        #data = max_pool(cluster,data)\n",
    "        #data = avg_pool(cluster,data)\n",
    "        \n",
    "        #x, edge_index, edge_weight, batch = data.x, data.edge_index, data.edge_attr, data.batch\n",
    "        #print(x.shape)\n",
    "        \n",
    "        x = self.conv2(x, edge_index, edge_weight=edge_weight)\n",
    "    \n",
    "        \n",
    "        # 2. Readout layer\n",
    "        x = global_mean_pool(x, batch, size=16)#[batch_size, hidden_channels]\n",
    "        \n",
    "        # 3. Apply a final classifier\n",
    "        x = self.lin(x)\n",
    "        #x = x.relu()\n",
    "        #x = F.leaky_relu(self.lin2(x))\n",
    "        x = self.lin2(x)\n",
    "        #print(x)\n",
    "        #print(x.shape)\n",
    "        softmax = torch.nn.Softmax(dim=1)\n",
    "        \n",
    "        return softmax(x)\n",
    "model = GCN(hidden_channels=16)\n",
    "print(model)"
   ]
  },
  {
   "cell_type": "code",
   "execution_count": 36,
   "id": "conscious-plenty",
   "metadata": {},
   "outputs": [
    {
     "name": "stdout",
     "output_type": "stream",
     "text": [
      "tensor([[0., 0., 1., 0.]], dtype=torch.float64)\n"
     ]
    }
   ],
   "source": []
  },
  {
   "cell_type": "code",
   "execution_count": 34,
   "id": "referenced-course",
   "metadata": {},
   "outputs": [
    {
     "data": {
      "text/plain": [
       "<generator object Module.parameters at 0x7fe2ecddef20>"
      ]
     },
     "execution_count": 34,
     "metadata": {},
     "output_type": "execute_result"
    }
   ],
   "source": [
    "model.parameters()"
   ]
  },
  {
   "cell_type": "code",
   "execution_count": 1,
   "id": "whole-kuwait",
   "metadata": {
    "scrolled": false
   },
   "outputs": [
    {
     "ename": "NameError",
     "evalue": "name 'GCN' is not defined",
     "output_type": "error",
     "traceback": [
      "\u001b[0;31m---------------------------------------------------------------------------\u001b[0m",
      "\u001b[0;31mNameError\u001b[0m                                 Traceback (most recent call last)",
      "\u001b[0;32m<ipython-input-1-67eb4291060e>\u001b[0m in \u001b[0;36m<module>\u001b[0;34m\u001b[0m\n\u001b[0;32m----> 1\u001b[0;31m \u001b[0mmodel\u001b[0m \u001b[0;34m=\u001b[0m \u001b[0mGCN\u001b[0m\u001b[0;34m(\u001b[0m\u001b[0mhidden_channels\u001b[0m\u001b[0;34m=\u001b[0m\u001b[0;36m64\u001b[0m\u001b[0;34m)\u001b[0m\u001b[0;34m\u001b[0m\u001b[0;34m\u001b[0m\u001b[0m\n\u001b[0m\u001b[1;32m      2\u001b[0m \u001b[0mmodel\u001b[0m \u001b[0;34m=\u001b[0m \u001b[0mmodel\u001b[0m\u001b[0;34m.\u001b[0m\u001b[0mdouble\u001b[0m\u001b[0;34m(\u001b[0m\u001b[0;34m)\u001b[0m\u001b[0;34m\u001b[0m\u001b[0;34m\u001b[0m\u001b[0m\n\u001b[1;32m      3\u001b[0m \u001b[0;34m\u001b[0m\u001b[0m\n\u001b[1;32m      4\u001b[0m \u001b[0moptimizer\u001b[0m \u001b[0;34m=\u001b[0m \u001b[0mtorch\u001b[0m\u001b[0;34m.\u001b[0m\u001b[0moptim\u001b[0m\u001b[0;34m.\u001b[0m\u001b[0mAdam\u001b[0m\u001b[0;34m(\u001b[0m\u001b[0mmodel\u001b[0m\u001b[0;34m.\u001b[0m\u001b[0mparameters\u001b[0m\u001b[0;34m(\u001b[0m\u001b[0;34m)\u001b[0m\u001b[0;34m,\u001b[0m \u001b[0mlr\u001b[0m\u001b[0;34m=\u001b[0m\u001b[0;36m0.01\u001b[0m\u001b[0;34m)\u001b[0m\u001b[0;34m\u001b[0m\u001b[0;34m\u001b[0m\u001b[0m\n\u001b[1;32m      5\u001b[0m \u001b[0;31m#criterion = torch.nn.CrossEntropyLoss()\u001b[0m\u001b[0;34m\u001b[0m\u001b[0;34m\u001b[0m\u001b[0;34m\u001b[0m\u001b[0m\n",
      "\u001b[0;31mNameError\u001b[0m: name 'GCN' is not defined"
     ]
    }
   ],
   "source": [
    "model = GCN(hidden_channels=64)\n",
    "model = model.double()\n",
    "\n",
    "optimizer = torch.optim.Adam(model.parameters(), lr=0.01)\n",
    "#criterion = torch.nn.CrossEntropyLoss()\n",
    "criterion = torch.nn.MSELoss()\n",
    "\n",
    "def train():\n",
    "    model.train()\n",
    "    #data = next(iter(train_loader))\n",
    "    for data in train_loader:  # Iterate in batches over the training dataset.\n",
    "        out = model(data)  # Perform a single forward pass.\n",
    "        print(out)\n",
    "        #print(data.y)\n",
    "        loss =criterion(out,data.y)# Compute the loss.\n",
    "        #print(loss)\n",
    "        loss.backward()# Derive gradients.\n",
    "        optimizer.step()  # Update parameters based on gradients.\n",
    "        #print(optimizer)\n",
    "        optimizer.zero_grad()  # Clear gradients.\n",
    "\n",
    "#def test(loader):\n",
    "#    model.eval()\n",
    "#    correct = 0\n",
    "#    for data in loader:  # Iterate in batches over the training/test dataset.\n",
    "#        out = model(data)\n",
    "#        _, pred = torch.max(out,dim=1)\n",
    "#        _, labels = torch.max(data.y,dim=1)\n",
    "#        correct += int((out == data.y).sum())  \n",
    "#    acc = correct / len(loader.dataset)\n",
    "#    return acc  # Derive ratio of correct predictions.\n",
    "\n",
    "\n",
    "for epoch in range(1,5):\n",
    "    train()\n",
    "    #train_acc = test(train_loader)\n",
    "    #test_acc = test(test_loader)\n",
    "    #print(f'Epoch: {epoch:03d}, Train Acc: {train_acc:.4f}, Test Acc: {test_acc:.4f}')"
   ]
  },
  {
   "cell_type": "code",
   "execution_count": null,
   "id": "small-reservation",
   "metadata": {},
   "outputs": [],
   "source": []
  },
  {
   "cell_type": "code",
   "execution_count": 116,
   "id": "measured-romantic",
   "metadata": {},
   "outputs": [
    {
     "name": "stdout",
     "output_type": "stream",
     "text": [
      "[-0.1816, 0.1225, -0.4104, 0.098]\n"
     ]
    },
    {
     "ename": "AttributeError",
     "evalue": "'list' object has no attribute 'argmax'",
     "output_type": "error",
     "traceback": [
      "\u001b[0;31m---------------------------------------------------------------------------\u001b[0m",
      "\u001b[0;31mAttributeError\u001b[0m                            Traceback (most recent call last)",
      "\u001b[0;32m<ipython-input-116-b767dd402548>\u001b[0m in \u001b[0;36m<module>\u001b[0;34m\u001b[0m\n\u001b[1;32m      1\u001b[0m \u001b[0mprint\u001b[0m\u001b[0;34m(\u001b[0m\u001b[0mout\u001b[0m\u001b[0;34m)\u001b[0m\u001b[0;34m\u001b[0m\u001b[0;34m\u001b[0m\u001b[0m\n\u001b[1;32m      2\u001b[0m \u001b[0;31m#out1 = np.argmax(out)\u001b[0m\u001b[0;34m\u001b[0m\u001b[0;34m\u001b[0m\u001b[0;34m\u001b[0m\u001b[0m\n\u001b[0;32m----> 3\u001b[0;31m \u001b[0mout1\u001b[0m \u001b[0;34m=\u001b[0m \u001b[0mout\u001b[0m\u001b[0;34m.\u001b[0m\u001b[0margmax\u001b[0m\u001b[0;34m(\u001b[0m\u001b[0;34m)\u001b[0m\u001b[0;34m\u001b[0m\u001b[0;34m\u001b[0m\u001b[0m\n\u001b[0m\u001b[1;32m      4\u001b[0m \u001b[0mprint\u001b[0m\u001b[0;34m(\u001b[0m\u001b[0mout1\u001b[0m\u001b[0;34m)\u001b[0m\u001b[0;34m\u001b[0m\u001b[0;34m\u001b[0m\u001b[0m\n",
      "\u001b[0;31mAttributeError\u001b[0m: 'list' object has no attribute 'argmax'"
     ]
    }
   ],
   "source": [
    "print(out)\n",
    "#out1 = np.argmax(ou\n",
    "print(out1)"
   ]
  },
  {
   "cell_type": "code",
   "execution_count": 62,
   "id": "political-decimal",
   "metadata": {},
   "outputs": [
    {
     "name": "stdout",
     "output_type": "stream",
     "text": [
      "tensor([[ 1.0000,  1.0000],\n",
      "        [ 1.0000, -1.0000],\n",
      "        [ 1.0000, -1.0000],\n",
      "        [ 1.0000,  1.0000],\n",
      "        [ 0.5000,  1.0000],\n",
      "        [ 1.0000,  1.0000],\n",
      "        [-0.5000,  1.0000]], dtype=torch.float64)\n"
     ]
    }
   ],
   "source": []
  },
  {
   "cell_type": "code",
   "execution_count": null,
   "id": "silver-sandwich",
   "metadata": {},
   "outputs": [],
   "source": []
  },
  {
   "cell_type": "code",
   "execution_count": null,
   "id": "relevant-judges",
   "metadata": {},
   "outputs": [],
   "source": []
  },
  {
   "cell_type": "code",
   "execution_count": 196,
   "id": "indonesian-mumbai",
   "metadata": {},
   "outputs": [
    {
     "name": "stdout",
     "output_type": "stream",
     "text": [
      "tensor([[0.0844, 0.3986, 0.2609],\n",
      "        [0.2343, 0.8936, 0.1516],\n",
      "        [0.1452, 0.0987, 0.2145],\n",
      "        [0.2973, 0.5708, 0.5076]])\n",
      "tensor([2, 0, 2, 1])\n",
      "tensor(1.1185)\n"
     ]
    }
   ],
   "source": [
    "def one_hot_ce_loss(outputs, targets):\n",
    "    criterion = torch.nn.CrossEntropyLoss()\n",
    "    _, labels = torch.max(targets, dim=1)\n",
    "    print(labels)\n",
    "    return criterion(outputs, labels)\n",
    "\n",
    "targets = torch.tensor([[0, 0, 1], [1, 0, 0], [0, 0, 1], [0, 1, 0]], dtype=torch.int32)\n",
    "outputs = torch.rand(size=(4, 3), dtype=torch.float32)\n",
    "outputs = outputs\n",
    "print(outputs)\n",
    "loss = one_hot_ce_loss(outputs, targets)\n",
    "print(loss)\n"
   ]
  },
  {
   "cell_type": "code",
   "execution_count": 270,
   "id": "steady-laundry",
   "metadata": {},
   "outputs": [
    {
     "name": "stdout",
     "output_type": "stream",
     "text": [
      "tensor([[ 0.2145, -2.2783,  1.8575,  1.6032,  0.7851],\n",
      "        [-0.2283, -0.0486, -1.7201, -0.2032, -0.4348],\n",
      "        [ 1.5630, -0.3071,  1.2237,  0.9879, -1.0522]])\n",
      "tensor([[ 0.1954,  0.2626,  0.7392,  0.9939,  0.3370],\n",
      "        [ 0.5461, -0.8510, -0.3370,  1.4678,  1.8743],\n",
      "        [ 0.4636, -1.7431,  0.4064,  0.7823, -1.0858]])\n",
      "tensor(1.5695)\n"
     ]
    },
    {
     "ename": "RuntimeError",
     "evalue": "element 0 of tensors does not require grad and does not have a grad_fn",
     "output_type": "error",
     "traceback": [
      "\u001b[0;31m---------------------------------------------------------------------------\u001b[0m",
      "\u001b[0;31mRuntimeError\u001b[0m                              Traceback (most recent call last)",
      "\u001b[0;32m<ipython-input-270-8b18a1dfb9af>\u001b[0m in \u001b[0;36m<module>\u001b[0;34m\u001b[0m\n\u001b[1;32m      6\u001b[0m \u001b[0moutput\u001b[0m \u001b[0;34m=\u001b[0m \u001b[0mloss\u001b[0m\u001b[0;34m(\u001b[0m\u001b[0minput\u001b[0m\u001b[0;34m,\u001b[0m \u001b[0mtarget\u001b[0m\u001b[0;34m)\u001b[0m\u001b[0;34m\u001b[0m\u001b[0;34m\u001b[0m\u001b[0m\n\u001b[1;32m      7\u001b[0m \u001b[0mprint\u001b[0m\u001b[0;34m(\u001b[0m\u001b[0moutput\u001b[0m\u001b[0;34m)\u001b[0m\u001b[0;34m\u001b[0m\u001b[0;34m\u001b[0m\u001b[0m\n\u001b[0;32m----> 8\u001b[0;31m \u001b[0moutput\u001b[0m\u001b[0;34m.\u001b[0m\u001b[0mbackward\u001b[0m\u001b[0;34m(\u001b[0m\u001b[0;34m)\u001b[0m\u001b[0;34m\u001b[0m\u001b[0;34m\u001b[0m\u001b[0m\n\u001b[0m",
      "\u001b[0;32m~/anaconda3/envs/master_env/lib/python3.8/site-packages/torch/tensor.py\u001b[0m in \u001b[0;36mbackward\u001b[0;34m(self, gradient, retain_graph, create_graph)\u001b[0m\n\u001b[1;32m    219\u001b[0m                 \u001b[0mretain_graph\u001b[0m\u001b[0;34m=\u001b[0m\u001b[0mretain_graph\u001b[0m\u001b[0;34m,\u001b[0m\u001b[0;34m\u001b[0m\u001b[0;34m\u001b[0m\u001b[0m\n\u001b[1;32m    220\u001b[0m                 create_graph=create_graph)\n\u001b[0;32m--> 221\u001b[0;31m         \u001b[0mtorch\u001b[0m\u001b[0;34m.\u001b[0m\u001b[0mautograd\u001b[0m\u001b[0;34m.\u001b[0m\u001b[0mbackward\u001b[0m\u001b[0;34m(\u001b[0m\u001b[0mself\u001b[0m\u001b[0;34m,\u001b[0m \u001b[0mgradient\u001b[0m\u001b[0;34m,\u001b[0m \u001b[0mretain_graph\u001b[0m\u001b[0;34m,\u001b[0m \u001b[0mcreate_graph\u001b[0m\u001b[0;34m)\u001b[0m\u001b[0;34m\u001b[0m\u001b[0;34m\u001b[0m\u001b[0m\n\u001b[0m\u001b[1;32m    222\u001b[0m \u001b[0;34m\u001b[0m\u001b[0m\n\u001b[1;32m    223\u001b[0m     \u001b[0;32mdef\u001b[0m \u001b[0mregister_hook\u001b[0m\u001b[0;34m(\u001b[0m\u001b[0mself\u001b[0m\u001b[0;34m,\u001b[0m \u001b[0mhook\u001b[0m\u001b[0;34m)\u001b[0m\u001b[0;34m:\u001b[0m\u001b[0;34m\u001b[0m\u001b[0;34m\u001b[0m\u001b[0m\n",
      "\u001b[0;32m~/anaconda3/envs/master_env/lib/python3.8/site-packages/torch/autograd/__init__.py\u001b[0m in \u001b[0;36mbackward\u001b[0;34m(tensors, grad_tensors, retain_graph, create_graph, grad_variables)\u001b[0m\n\u001b[1;32m    128\u001b[0m         \u001b[0mretain_graph\u001b[0m \u001b[0;34m=\u001b[0m \u001b[0mcreate_graph\u001b[0m\u001b[0;34m\u001b[0m\u001b[0;34m\u001b[0m\u001b[0m\n\u001b[1;32m    129\u001b[0m \u001b[0;34m\u001b[0m\u001b[0m\n\u001b[0;32m--> 130\u001b[0;31m     Variable._execution_engine.run_backward(\n\u001b[0m\u001b[1;32m    131\u001b[0m         \u001b[0mtensors\u001b[0m\u001b[0;34m,\u001b[0m \u001b[0mgrad_tensors_\u001b[0m\u001b[0;34m,\u001b[0m \u001b[0mretain_graph\u001b[0m\u001b[0;34m,\u001b[0m \u001b[0mcreate_graph\u001b[0m\u001b[0;34m,\u001b[0m\u001b[0;34m\u001b[0m\u001b[0;34m\u001b[0m\u001b[0m\n\u001b[1;32m    132\u001b[0m         allow_unreachable=True)  # allow_unreachable flag\n",
      "\u001b[0;31mRuntimeError\u001b[0m: element 0 of tensors does not require grad and does not have a grad_fn"
     ]
    }
   ],
   "source": [
    "loss = torch.nn.MSELoss()\n",
    "input = torch.randn(3, 5, requires_grad=True)\n",
    "target = torch.randn(3, 5)\n",
    "print(input)\n",
    "print(target)\n",
    "output = loss(input, target)\n",
    "print(output)\n",
    "output.backward()\n"
   ]
  },
  {
   "cell_type": "code",
   "execution_count": 271,
   "id": "technological-ambassador",
   "metadata": {},
   "outputs": [],
   "source": [
    "input = torch.tensor([1.5476e-02,  1.8450e-01,  1.7524e-01, -2.9619e-04])"
   ]
  },
  {
   "cell_type": "code",
   "execution_count": 274,
   "id": "outstanding-teens",
   "metadata": {},
   "outputs": [
    {
     "name": "stdout",
     "output_type": "stream",
     "text": [
      "tensor([0.2303, 0.2727, 0.2702, 0.2267])\n"
     ]
    },
    {
     "name": "stderr",
     "output_type": "stream",
     "text": [
      "<ipython-input-274-e20c20e30d0d>:2: UserWarning: Implicit dimension choice for softmax has been deprecated. Change the call to include dim=X as an argument.\n",
      "  test = softmax(input)\n"
     ]
    }
   ],
   "source": [
    "softmax = torch.nn.Softmax()\n",
    "test = softmax(input)\n",
    "print(test)"
   ]
  },
  {
   "cell_type": "code",
   "execution_count": 306,
   "id": "pregnant-position",
   "metadata": {},
   "outputs": [],
   "source": [
    "def sigmoid_prime(z):\n",
    "    return sigmoid(z) * (1 - sigmoid(z))\n"
   ]
  },
  {
   "cell_type": "code",
   "execution_count": 308,
   "id": "secure-faith",
   "metadata": {},
   "outputs": [
    {
     "ename": "ImportError",
     "evalue": "cannot import name 'sigmoidm' from 'torch' (/home/valdemar/anaconda3/envs/master_env/lib/python3.8/site-packages/torch/__init__.py)",
     "output_type": "error",
     "traceback": [
      "\u001b[0;31m---------------------------------------------------------------------------\u001b[0m",
      "\u001b[0;31mImportError\u001b[0m                               Traceback (most recent call last)",
      "\u001b[0;32m<ipython-input-308-1859a11ca68c>\u001b[0m in \u001b[0;36m<module>\u001b[0;34m\u001b[0m\n\u001b[0;32m----> 1\u001b[0;31m \u001b[0;32mfrom\u001b[0m \u001b[0mtorch\u001b[0m \u001b[0;32mimport\u001b[0m \u001b[0msigmoidm\u001b[0m\u001b[0;34m,\u001b[0m \u001b[0mTanh\u001b[0m\u001b[0;34m\u001b[0m\u001b[0;34m\u001b[0m\u001b[0m\n\u001b[0m",
      "\u001b[0;31mImportError\u001b[0m: cannot import name 'sigmoidm' from 'torch' (/home/valdemar/anaconda3/envs/master_env/lib/python3.8/site-packages/torch/__init__.py)"
     ]
    }
   ],
   "source": [
    "from torch import sigmoidm"
   ]
  },
  {
   "cell_type": "code",
   "execution_count": 313,
   "id": "western-market",
   "metadata": {},
   "outputs": [
    {
     "name": "stdout",
     "output_type": "stream",
     "text": [
      "tensor([ 8.0000e-01,  1.8450e-01,  1.7524e-01, -2.9619e-04])\n",
      "tensor([ 6.6404e-01,  1.8243e-01,  1.7347e-01, -2.9619e-04])\n"
     ]
    }
   ],
   "source": [
    "input = torch.tensor([0.8,  1.8450e-01,  1.7524e-01, -2.9619e-04])\n",
    "print(input)\n",
    "tanh = torch.nn.Tanh()\n",
    "test = tanh(input)\n",
    "#test = sigmoid_prime(input)\n",
    "print(test)"
   ]
  },
  {
   "cell_type": "code",
   "execution_count": null,
   "id": "swedish-forty",
   "metadata": {},
   "outputs": [],
   "source": []
  }
 ],
 "metadata": {
  "kernelspec": {
   "display_name": "Python 3",
   "language": "python",
   "name": "python3"
  },
  "language_info": {
   "codemirror_mode": {
    "name": "ipython",
    "version": 3
   },
   "file_extension": ".py",
   "mimetype": "text/x-python",
   "name": "python",
   "nbconvert_exporter": "python",
   "pygments_lexer": "ipython3",
   "version": "3.8.8"
  }
 },
 "nbformat": 4,
 "nbformat_minor": 5
}
