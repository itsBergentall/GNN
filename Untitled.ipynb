{
 "cells": [
  {
   "cell_type": "code",
   "execution_count": 2,
   "id": "boring-trash",
   "metadata": {},
   "outputs": [
    {
     "name": "stderr",
     "output_type": "stream",
     "text": [
      "/home/valdemar/anaconda3/envs/master_env/lib/python3.8/site-packages/torch/cuda/__init__.py:52: UserWarning: CUDA initialization: Found no NVIDIA driver on your system. Please check that you have an NVIDIA GPU and installed a driver from http://www.nvidia.com/Download/index.aspx (Triggered internally at  /opt/conda/conda-bld/pytorch_1603729062494/work/c10/cuda/CUDAFunctions.cpp:100.)\n",
      "  return torch._C._cuda_getDeviceCount() > 0\n"
     ]
    }
   ],
   "source": [
    "import torch_geometric.transforms\n",
    "from torch_geometric.nn import knn_graph\n",
    "import torch_geometric.data\n",
    "import torch \n",
    "from torch_geometric.data import Data, ClusterData\n",
    "import numpy as np\n",
    "import pickle\n",
    "from torch_geometric.data import DataLoader\n",
    "from torch.utils.data import random_split\n",
    "import random\n",
    "from torch.nn import Linear\n",
    "import torch.nn.functional as F\n",
    "from torch_geometric.nn import GCNConv, GraphConv\n",
    "from torch_geometric.nn import max_pool, graclus, avg_pool\n",
    "\n",
    "from torch_geometric.nn import global_mean_pool\n",
    "from torch_geometric.data import Batch\n",
    "\n"
   ]
  },
  {
   "cell_type": "code",
   "execution_count": 3,
   "id": "educated-delicious",
   "metadata": {},
   "outputs": [],
   "source": [
    "dataset = torch.load('defect_matrices/graphs.pt')"
   ]
  },
  {
   "cell_type": "code",
   "execution_count": 66,
   "id": "particular-seafood",
   "metadata": {},
   "outputs": [
    {
     "name": "stdout",
     "output_type": "stream",
     "text": [
      "3\n",
      "20\n"
     ]
    }
   ],
   "source": [
    "torch.manual_seed(1234)\n",
    "train_dataset = dataset[:640]\n",
    "test_dataset = dataset[240:320]\n",
    "train_loader = DataLoader(train_dataset, batch_size=32, shuffle=True)\n",
    "test_loader = DataLoader(test_dataset, batch_size=32, shuffle=False)\n",
    "print(len(test_loader))\n",
    "print(len(train_loader))"
   ]
  },
  {
   "cell_type": "code",
   "execution_count": 140,
   "id": "danish-firewall",
   "metadata": {},
   "outputs": [
    {
     "name": "stdout",
     "output_type": "stream",
     "text": [
      "357\n",
      "640\n",
      "0.5578125\n"
     ]
    }
   ],
   "source": [
    "    "
   ]
  },
  {
   "cell_type": "code",
   "execution_count": 144,
   "id": "eligible-television",
   "metadata": {},
   "outputs": [],
   "source": [
    "class GNN(torch.nn.Module):\n",
    "    def __init__(self, hidden_channels):\n",
    "        super(GNN, self).__init__()\n",
    "        self.conv1 = GraphConv(2,hidden_channels)\n",
    "        self.conv2 = GraphConv(hidden_channels, hidden_channels)\n",
    "        self.conv3 = GraphConv(hidden_channels, int(hidden_channels*0.5))\n",
    "        \n",
    "        self.lin1 = Linear(hidden_channels, hidden_channels)\n",
    "        self.lin2 = Linear(hidden_channels,4)\n",
    "        \n",
    "        \n",
    "        #self.lin1 = Linear(hidden_channels, int(hidden_channels*0.5))\n",
    "        #self.lin2 = Linear(int(hidden_channels*0.5),4)\n",
    "        \n",
    "\n",
    "        \n",
    "    def forward(self, data):\n",
    "        x, edge_index,edge_weight,batch = data.x, data.edge_index,data.edge_attr, data.batch\n",
    "        \n",
    "        x = self.conv1(x, edge_index, edge_weight=edge_weight)\n",
    "        #print(x)\n",
    "        cluster = graclus(edge_index, edge_weight, x.size(0))\n",
    "        \n",
    "        data = avg_pool(cluster,data)\n",
    "        \n",
    "        x, edge_index,edge_weight,batch = data.x, data.edge_index, data.edge_attr, data.batch\n",
    "        #print(x)\n",
    "        #print(x.shape)\n",
    "        x = self.conv1(x,edge_index, edge_weight=edge_weight)\n",
    "        \n",
    "        \n",
    "        cluster = graclus(edge_index, edge_weight, x.size(0))\n",
    "        data = avg_pool(cluster,data)\n",
    "        x, edge_index,edge_weight,batch = data.x, data.edge_index, data.edge_attr, data.batch\n",
    "        #print(x)\n",
    "        #x = self.conv3(x,edge_index, edge_weight=edge_weight)\n",
    "        x = self.conv1(x,edge_index, edge_weight=edge_weight)\n",
    "        \n",
    "        \n",
    "        #print(x.shape)\n",
    "        #print()\n",
    "        x = global_mean_pool(x,batch)\n",
    "        #print(x.shape)\n",
    "        #x = F.dropout(x, p=0.5, training=self.training)\n",
    "        #print(x)\n",
    "        x = self.lin1(x)\n",
    "        x = self.lin2(x)\n",
    "        \n",
    "        softmax = torch.nn.Softmax(dim=1)\n",
    "        \n",
    "        return softmax(x)"
   ]
  },
  {
   "cell_type": "code",
   "execution_count": 148,
   "id": "interpreted-potter",
   "metadata": {},
   "outputs": [
    {
     "name": "stdout",
     "output_type": "stream",
     "text": [
      "Epoch: 001, Train Acc: 0.3438, Test Acc: 0.3625\n",
      "Epoch: 002, Train Acc: 0.4953, Test Acc: 0.6125\n",
      "Epoch: 003, Train Acc: 0.5328, Test Acc: 0.6000\n",
      "Epoch: 004, Train Acc: 0.5578, Test Acc: 0.6125\n",
      "Epoch: 005, Train Acc: 0.5578, Test Acc: 0.6125\n",
      "Epoch: 006, Train Acc: 0.5578, Test Acc: 0.6125\n",
      "Epoch: 007, Train Acc: 0.5578, Test Acc: 0.6125\n",
      "Epoch: 008, Train Acc: 0.5578, Test Acc: 0.6125\n",
      "Epoch: 009, Train Acc: 0.5578, Test Acc: 0.6125\n",
      "Epoch: 010, Train Acc: 0.5578, Test Acc: 0.6125\n",
      "Epoch: 011, Train Acc: 0.5578, Test Acc: 0.6125\n",
      "Epoch: 012, Train Acc: 0.5578, Test Acc: 0.6125\n",
      "Epoch: 013, Train Acc: 0.5578, Test Acc: 0.6125\n",
      "Epoch: 014, Train Acc: 0.5578, Test Acc: 0.6125\n",
      "Epoch: 015, Train Acc: 0.5578, Test Acc: 0.6125\n",
      "Epoch: 016, Train Acc: 0.5578, Test Acc: 0.6125\n",
      "Epoch: 017, Train Acc: 0.5578, Test Acc: 0.6125\n",
      "Epoch: 018, Train Acc: 0.5578, Test Acc: 0.6125\n",
      "Epoch: 019, Train Acc: 0.5578, Test Acc: 0.6125\n",
      "Epoch: 020, Train Acc: 0.5578, Test Acc: 0.6125\n",
      "Epoch: 021, Train Acc: 0.5578, Test Acc: 0.6125\n",
      "Epoch: 022, Train Acc: 0.5578, Test Acc: 0.6125\n",
      "Epoch: 023, Train Acc: 0.5578, Test Acc: 0.6125\n",
      "Epoch: 024, Train Acc: 0.5578, Test Acc: 0.6125\n",
      "Epoch: 025, Train Acc: 0.5578, Test Acc: 0.6125\n",
      "Epoch: 026, Train Acc: 0.5578, Test Acc: 0.6125\n",
      "Epoch: 027, Train Acc: 0.5578, Test Acc: 0.6125\n",
      "Epoch: 028, Train Acc: 0.5578, Test Acc: 0.6125\n",
      "Epoch: 029, Train Acc: 0.5578, Test Acc: 0.6125\n",
      "Epoch: 030, Train Acc: 0.5578, Test Acc: 0.6125\n",
      "Epoch: 031, Train Acc: 0.5578, Test Acc: 0.6125\n",
      "Epoch: 032, Train Acc: 0.5578, Test Acc: 0.6125\n",
      "Epoch: 033, Train Acc: 0.5578, Test Acc: 0.6125\n",
      "Epoch: 034, Train Acc: 0.5578, Test Acc: 0.6125\n",
      "Epoch: 035, Train Acc: 0.5578, Test Acc: 0.6125\n",
      "Epoch: 036, Train Acc: 0.5578, Test Acc: 0.6125\n",
      "Epoch: 037, Train Acc: 0.5578, Test Acc: 0.6125\n",
      "Epoch: 038, Train Acc: 0.5578, Test Acc: 0.6125\n",
      "Epoch: 039, Train Acc: 0.5578, Test Acc: 0.6125\n",
      "Epoch: 040, Train Acc: 0.5578, Test Acc: 0.6125\n",
      "Epoch: 041, Train Acc: 0.5578, Test Acc: 0.6125\n",
      "Epoch: 042, Train Acc: 0.5578, Test Acc: 0.6125\n",
      "Epoch: 043, Train Acc: 0.5578, Test Acc: 0.6125\n",
      "Epoch: 044, Train Acc: 0.5578, Test Acc: 0.6125\n",
      "Epoch: 045, Train Acc: 0.5578, Test Acc: 0.6125\n",
      "Epoch: 046, Train Acc: 0.5578, Test Acc: 0.6125\n",
      "Epoch: 047, Train Acc: 0.5578, Test Acc: 0.6125\n",
      "Epoch: 048, Train Acc: 0.5578, Test Acc: 0.6125\n",
      "Epoch: 049, Train Acc: 0.5578, Test Acc: 0.6125\n",
      "Epoch: 050, Train Acc: 0.5578, Test Acc: 0.6125\n",
      "Epoch: 051, Train Acc: 0.5578, Test Acc: 0.6125\n",
      "Epoch: 052, Train Acc: 0.5578, Test Acc: 0.6125\n",
      "Epoch: 053, Train Acc: 0.5578, Test Acc: 0.6125\n",
      "Epoch: 054, Train Acc: 0.5578, Test Acc: 0.6125\n",
      "Epoch: 055, Train Acc: 0.5578, Test Acc: 0.6125\n",
      "Epoch: 056, Train Acc: 0.5578, Test Acc: 0.6125\n",
      "Epoch: 057, Train Acc: 0.5578, Test Acc: 0.6125\n",
      "Epoch: 058, Train Acc: 0.5578, Test Acc: 0.6125\n",
      "Epoch: 059, Train Acc: 0.5578, Test Acc: 0.6125\n",
      "Epoch: 060, Train Acc: 0.5578, Test Acc: 0.6125\n",
      "Epoch: 061, Train Acc: 0.5578, Test Acc: 0.6125\n",
      "Epoch: 062, Train Acc: 0.5578, Test Acc: 0.6125\n",
      "Epoch: 063, Train Acc: 0.5578, Test Acc: 0.6125\n",
      "Epoch: 064, Train Acc: 0.5578, Test Acc: 0.6125\n",
      "Epoch: 065, Train Acc: 0.5578, Test Acc: 0.6125\n",
      "Epoch: 066, Train Acc: 0.5578, Test Acc: 0.6125\n",
      "Epoch: 067, Train Acc: 0.5578, Test Acc: 0.6125\n",
      "Epoch: 068, Train Acc: 0.5578, Test Acc: 0.6125\n",
      "Epoch: 069, Train Acc: 0.5578, Test Acc: 0.6125\n",
      "Epoch: 070, Train Acc: 0.5578, Test Acc: 0.6125\n",
      "Epoch: 071, Train Acc: 0.5578, Test Acc: 0.6125\n",
      "Epoch: 072, Train Acc: 0.5578, Test Acc: 0.6125\n",
      "Epoch: 073, Train Acc: 0.5578, Test Acc: 0.6125\n",
      "Epoch: 074, Train Acc: 0.5578, Test Acc: 0.6125\n",
      "Epoch: 075, Train Acc: 0.5578, Test Acc: 0.6125\n",
      "Epoch: 076, Train Acc: 0.5578, Test Acc: 0.6125\n",
      "Epoch: 077, Train Acc: 0.5578, Test Acc: 0.6125\n",
      "Epoch: 078, Train Acc: 0.5578, Test Acc: 0.6125\n",
      "Epoch: 079, Train Acc: 0.5578, Test Acc: 0.6125\n",
      "Epoch: 080, Train Acc: 0.5578, Test Acc: 0.6125\n",
      "Epoch: 081, Train Acc: 0.5578, Test Acc: 0.6125\n",
      "Epoch: 082, Train Acc: 0.5578, Test Acc: 0.6125\n",
      "Epoch: 083, Train Acc: 0.5578, Test Acc: 0.6125\n",
      "Epoch: 084, Train Acc: 0.5578, Test Acc: 0.6125\n",
      "Epoch: 085, Train Acc: 0.5578, Test Acc: 0.6125\n",
      "Epoch: 086, Train Acc: 0.5578, Test Acc: 0.6125\n",
      "Epoch: 087, Train Acc: 0.5578, Test Acc: 0.6125\n",
      "Epoch: 088, Train Acc: 0.5578, Test Acc: 0.6125\n",
      "Epoch: 089, Train Acc: 0.5578, Test Acc: 0.6125\n",
      "Epoch: 090, Train Acc: 0.5578, Test Acc: 0.6125\n",
      "Epoch: 091, Train Acc: 0.5578, Test Acc: 0.6125\n",
      "Epoch: 092, Train Acc: 0.5578, Test Acc: 0.6125\n",
      "Epoch: 093, Train Acc: 0.5578, Test Acc: 0.6125\n",
      "Epoch: 094, Train Acc: 0.5578, Test Acc: 0.6125\n",
      "Epoch: 095, Train Acc: 0.5578, Test Acc: 0.6125\n",
      "Epoch: 096, Train Acc: 0.5578, Test Acc: 0.6125\n",
      "Epoch: 097, Train Acc: 0.5578, Test Acc: 0.6125\n",
      "Epoch: 098, Train Acc: 0.5578, Test Acc: 0.6125\n",
      "Epoch: 099, Train Acc: 0.5578, Test Acc: 0.6125\n"
     ]
    }
   ],
   "source": [
    "torch.manual_seed(124)\n",
    "model = GNN(hidden_channels=16)#(32)\n",
    "model = model.double()\n",
    "optimizer = torch.optim.Adam(model.parameters(), lr=0.001)# 0,01 for single batch\n",
    "#criterion = torch.nn.CrossEntropyLoss()\n",
    "criterion = torch.nn.MSELoss()\n",
    "#criterion = torch.nn.KLDivLoss(reduction='batchmean')\n",
    "\n",
    "#data = next(iter(train_loader))\n",
    "#print(data.x)\n",
    "#model.train()\n",
    "\n",
    "#for epoch in range(1,200):\n",
    "loss_list = []\n",
    "acc_list = []\n",
    "\n",
    "def train():    \n",
    "    model.train()\n",
    "    total_loss=0\n",
    "    for data in train_loader:\n",
    "        target = data.y \n",
    "        optimizer.zero_grad()  # Clear gradients.\n",
    "        out = model(data)\n",
    "        loss = criterion(out,target)# Compute the loss\n",
    "        loss.backward()# Derive gradients.\n",
    "        optimizer.step()  # Update parameters based on gradients.\n",
    "        #print(loss)\n",
    "        #print(loss.item())\n",
    "        #print()\n",
    "        total_loss += loss.item() * data.num_graphs\n",
    "    total_loss /= len(train_loader.dataset)\n",
    "    #print(total_loss)    \n",
    "    \n",
    "    \n",
    "    return total_loss\n",
    "    \n",
    "    #if epoch %20 ==0:\n",
    "    #    print(loss)\n",
    "            #print(target)\n",
    "            #print(out)\n",
    "            #print(loss)\n",
    "    \n",
    "        \n",
    "def test(loader):\n",
    "    model.eval()\n",
    "\n",
    "    correct = 0\n",
    "    for data in loader:  # Iterate in batches over the training/test dataset.\n",
    "        #print(data)\n",
    "        out = model(data)\n",
    "        #print(out)\n",
    "        pred = out.argmax(dim=1)  # Use the class with highest probability.\n",
    "        #print(pred)\n",
    "        #pred_test = torch.max(out,dim=1)\n",
    "        target, target_idx = torch.max(data.y,dim=1)\n",
    "        #print(target_idx)\n",
    "        #print(pred)\n",
    "\n",
    "        correct += int((pred == target_idx).sum())  # Check against ground-truth labels.\n",
    "        #print(correct)\n",
    "        #print()\n",
    "    return correct / len(loader.dataset)  # Derive ratio of correct predictions.\n",
    "\n",
    "\n",
    "for epoch in range(1, 100):\n",
    "    total_loss = train()\n",
    "    \n",
    "    loss_list.append(total_loss)\n",
    "    \n",
    "    train_acc = test(train_loader)\n",
    "    test_acc = test(test_loader)\n",
    "    \n",
    "    acc_list.append([train_acc,test_acc])\n",
    "    #if epoch %20==0:\n",
    "    print(f'Epoch: {epoch:03d}, Train Acc: {train_acc:.4f}, Test Acc: {test_acc:.4f}')\n",
    "#with open('loss_bs32', 'wb') as fp:\n",
    "#    pickle.dump(loss_list, fp)\n",
    "\n",
    "#with open('acc_bs32', 'wb') as fp:\n",
    "#    pickle.dump(acc_list, fp)\n"
   ]
  },
  {
   "cell_type": "code",
   "execution_count": 31,
   "id": "infectious-glasgow",
   "metadata": {},
   "outputs": [
    {
     "name": "stdout",
     "output_type": "stream",
     "text": [
      "4\n"
     ]
    }
   ],
   "source": [
    "#data = next(iter(train_loader))\n",
    "print(len(data.y))\n",
    "#print(data.num_graphs)"
   ]
  },
  {
   "cell_type": "code",
   "execution_count": 25,
   "id": "acting-player",
   "metadata": {},
   "outputs": [
    {
     "name": "stdout",
     "output_type": "stream",
     "text": [
      "[1.106953692231249, 1.0680316677491628, 1.0675216777183671, 1.060355189139869, 1.0670110873062055, 1.058064193830081, 1.053199838112422, 1.0622645853349728, 1.0588917132047406, 1.0548170880106955, 1.0537358525830003, 1.0506620996734535, 1.0521966528490552, 1.0527032189342924, 1.0499344413233924, 1.0519849890510886, 1.0491440966006516, 1.0510834603754413, 1.051582558488847, 1.0543219897064255, 1.0525331746969409, 1.053055546667842, 1.0522445480162623, 1.0492698571725279, 1.0539991989811093, 1.0510929554577937, 1.0519190531938198, 1.0505827481547738, 1.0530113302691193, 1.0520302888256843, 1.0533118837281337, 1.05828039226118, 1.0539902505800172, 1.047270616269021, 1.0532400795000831, 1.0489447186346843, 1.047899658136278, 1.0500748694550142, 1.0504801650348095, 1.0499174230718071, 1.0489486923373756, 1.0604784366491518, 1.0527726762701324, 1.0521678580614264, 1.0532392557802743, 1.0508149113895693, 1.0494464659008025, 1.0474360033215917, 1.0496763952850565]\n"
     ]
    }
   ],
   "source": [
    "print(loss_list)"
   ]
  },
  {
   "cell_type": "code",
   "execution_count": 26,
   "id": "nearby-manchester",
   "metadata": {},
   "outputs": [
    {
     "data": {
      "image/png": "[encoded data removed]",
      "text/plain": [
       "<Figure size 432x288 with 1 Axes>"
      ]
     },
     "metadata": {
      "needs_background": "light"
     },
     "output_type": "display_data"
    }
   ],
   "source": [
    "import matplotlib.pyplot as plt\n",
    "plt.plot(loss_list)\n",
    "#plt.ylabel('some numbers')\n",
    "plt.show()"
   ]
  },
  {
   "cell_type": "code",
   "execution_count": 77,
   "id": "governing-karaoke",
   "metadata": {},
   "outputs": [],
   "source": [
    "with open ('loss_bs4', 'rb') as f1p:\n",
    "    bs4 = pickle.load(f1p)\n",
    "\n",
    "with open ('loss_bs8', 'rb') as f2p:\n",
    "    bs8 = pickle.load(f2p)\n",
    "    \n",
    "with open ('loss_bs16', 'rb') as f3p:\n",
    "    bs16 = pickle.load(f3p)\n",
    "    \n",
    "with open ('loss_bs32', 'rb') as f4p:\n",
    "    bs32 = pickle.load(f4p)\n",
    "\n",
    "with open ('acc_bs32', 'rb') as f5p:\n",
    "    acc32 = pickle.load(f5p)\n",
    "\n",
    "    "
   ]
  },
  {
   "cell_type": "code",
   "execution_count": 76,
   "id": "regulated-palmer",
   "metadata": {},
   "outputs": [
    {
     "data": {
      "image/png": "[encoded data removed]",
      "text/plain": [
       "<Figure size 432x288 with 1 Axes>"
      ]
     },
     "metadata": {
      "needs_background": "light"
     },
     "output_type": "display_data"
    }
   ],
   "source": [
    "#print(itemlist)\n",
    "plt.plot(bs4)\n",
    "plt.plot(bs8)\n",
    "plt.plot(bs16)\n",
    "plt.plot(bs32)\n",
    "plt.ylabel('Loss')\n",
    "plt.xlabel('Epochs')\n",
    "plt.legend([\"batch_size=4\", \"8\" ,\"16\" ,\"32\"])\n",
    "plt.savefig(\"bs_test.png\")\n",
    "plt.show()\n",
    "#plt.savefig(\"bs_test.png\")\n",
    "\n",
    "    "
   ]
  },
  {
   "cell_type": "code",
   "execution_count": 101,
   "id": "adjusted-tribe",
   "metadata": {},
   "outputs": [],
   "source": [
    "#plt.plot(len(acc32[1]),acc32[1])\n",
    "#print(len(acc32))\n",
    "train_acc = []\n",
    "test_acc = []\n",
    "for ix in range(len(acc32)):\n",
    "    train_acc.append(acc32[ix][0])\n",
    "    test_acc.append(acc32[ix][1])"
   ]
  },
  {
   "cell_type": "code",
   "execution_count": 113,
   "id": "distributed-roberts",
   "metadata": {},
   "outputs": [
    {
     "data": {
      "image/png": "[encoded data removed]",
      "text/plain": [
       "<Figure size 432x288 with 1 Axes>"
      ]
     },
     "metadata": {
      "needs_background": "light"
     },
     "output_type": "display_data"
    }
   ],
   "source": [
    "plt.plot(train_acc)\n",
    "plt.plot(test_acc)\n",
    "plt.legend([\"Train_acc\", \"Test_acc\"])\n",
    "plt.xlabel(\"Epochs\")\n",
    "plt.ylabel(\"Accuracy\")\n",
    "plt.savefig(\"acc_test.pdf\")\n",
    "#plt.show"
   ]
  },
  {
   "cell_type": "code",
   "execution_count": null,
   "id": "coordinate-business",
   "metadata": {},
   "outputs": [],
   "source": []
  }
 ],
 "metadata": {
  "kernelspec": {
   "display_name": "Python 3",
   "language": "python",
   "name": "python3"
  },
  "language_info": {
   "codemirror_mode": {
    "name": "ipython",
    "version": 3
   },
   "file_extension": ".py",
   "mimetype": "text/x-python",
   "name": "python",
   "nbconvert_exporter": "python",
   "pygments_lexer": "ipython3",
   "version": "3.8.8"
  }
 },
 "nbformat": 4,
 "nbformat_minor": 5
}
