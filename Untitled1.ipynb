{
 "cells": [
  {
   "cell_type": "code",
   "execution_count": 1,
   "id": "spare-action",
   "metadata": {},
   "outputs": [
    {
     "name": "stderr",
     "output_type": "stream",
     "text": [
      "/home/valdemar/anaconda3/envs/master_env/lib/python3.8/site-packages/torch/cuda/__init__.py:52: UserWarning: CUDA initialization: Found no NVIDIA driver on your system. Please check that you have an NVIDIA GPU and installed a driver from http://www.nvidia.com/Download/index.aspx (Triggered internally at  /opt/conda/conda-bld/pytorch_1603729062494/work/c10/cuda/CUDAFunctions.cpp:100.)\n",
      "  return torch._C._cuda_getDeviceCount() > 0\n"
     ]
    }
   ],
   "source": [
    "import torch_geometric.transforms\n",
    "from torch_geometric.nn import knn_graph\n",
    "import torch_geometric.data\n",
    "import torch \n",
    "from torch_geometric.data import Data, ClusterData\n",
    "import numpy as np\n",
    "import pickle\n",
    "from torch_geometric.data import DataLoader\n",
    "from torch.utils.data import random_split\n",
    "import random\n",
    "from torch.nn import Linear\n",
    "import torch.nn.functional as F\n",
    "from torch_geometric.nn import GCNConv, GraphConv\n",
    "from torch_geometric.nn import max_pool, graclus, avg_pool\n",
    "\n",
    "from torch_geometric.nn import global_mean_pool\n",
    "from torch_geometric.data import Batch\n",
    "\n"
   ]
  },
  {
   "cell_type": "code",
   "execution_count": 117,
   "id": "enormous-california",
   "metadata": {},
   "outputs": [
    {
     "name": "stdout",
     "output_type": "stream",
     "text": [
      "3\n",
      "20\n"
     ]
    }
   ],
   "source": [
    "dataset = torch.load('defect_matrices/graphs.pt')\n",
    "torch.manual_seed(1234)\n",
    "train_dataset = dataset[:640]\n",
    "test_dataset = dataset[240:320]\n",
    "train_loader = DataLoader(train_dataset, batch_size=32, shuffle=True)\n",
    "test_loader = DataLoader(test_dataset, batch_size=32, shuffle=False)\n",
    "print(len(test_loader))\n",
    "print(len(train_loader))"
   ]
  },
  {
   "cell_type": "code",
   "execution_count": 118,
   "id": "indoor-electric",
   "metadata": {},
   "outputs": [],
   "source": [
    "class GNN(torch.nn.Module):\n",
    "    def __init__(self, hidden_channels):\n",
    "        super(GNN, self).__init__()\n",
    "        self.conv1 = GraphConv(2,hidden_channels)\n",
    "        self.conv2 = GraphConv(hidden_channels, hidden_channels)\n",
    "        self.conv3 = GraphConv(hidden_channels, int(hidden_channels*0.5))\n",
    "        \n",
    "        self.lin1 = Linear(int(hidden_channels*0.5), int(hidden_channels*0.5))\n",
    "        self.lin2 = Linear(int(hidden_channels*0.5),4)\n",
    "        \n",
    "        \n",
    "        #self.lin1 = Linear(hidden_channels, int(hidden_channels*0.5))\n",
    "        #self.lin2 = Linear(int(hidden_channels*0.5),4)\n",
    "        \n",
    "\n",
    "        \n",
    "    def forward(self, data):\n",
    "        x, edge_index,edge_weight,batch = data.x, data.edge_index,data.edge_attr, data.batch\n",
    "        \n",
    "        x = self.conv1(x, edge_index, edge_weight=edge_weight)\n",
    "        x = F.relu(x)\n",
    "        x = self.conv2(x,edge_index, edge_weight=edge_weight)\n",
    "        x = F.relu(x)\n",
    "        x = self.conv3(x,edge_index, edge_weight=edge_weight)\n",
    "        \n",
    "\n",
    "        x = global_mean_pool(x,batch)\n",
    "\n",
    "        x = self.lin1(x)\n",
    "        x = self.lin2(x)\n",
    "        \n",
    "        \n",
    "        softmax = torch.nn.LogSoftmax(dim=1)\n",
    "        \n",
    "        return softmax(x)"
   ]
  },
  {
   "cell_type": "code",
   "execution_count": 138,
   "id": "artificial-conclusion",
   "metadata": {},
   "outputs": [
    {
     "name": "stdout",
     "output_type": "stream",
     "text": [
      "Epoch: 040, Train Acc: 0.5719, Test Acc: 0.6125\n",
      "Epoch: 080, Train Acc: 0.6172, Test Acc: 0.6875\n",
      "Epoch: 120, Train Acc: 0.6344, Test Acc: 0.7250\n",
      "Epoch: 160, Train Acc: 0.6328, Test Acc: 0.7000\n",
      "Epoch: 200, Train Acc: 0.6422, Test Acc: 0.7250\n",
      "Epoch: 240, Train Acc: 0.6469, Test Acc: 0.6875\n",
      "Epoch: 280, Train Acc: 0.6703, Test Acc: 0.6750\n",
      "Epoch: 320, Train Acc: 0.6719, Test Acc: 0.6875\n",
      "Epoch: 360, Train Acc: 0.6859, Test Acc: 0.7375\n",
      "Epoch: 400, Train Acc: 0.6891, Test Acc: 0.7125\n",
      "Epoch: 440, Train Acc: 0.7016, Test Acc: 0.7250\n",
      "Epoch: 480, Train Acc: 0.7094, Test Acc: 0.7375\n",
      "Epoch: 520, Train Acc: 0.7250, Test Acc: 0.7625\n",
      "Epoch: 560, Train Acc: 0.7234, Test Acc: 0.7375\n",
      "Epoch: 600, Train Acc: 0.7312, Test Acc: 0.7750\n",
      "Epoch: 640, Train Acc: 0.6969, Test Acc: 0.7750\n",
      "Epoch: 680, Train Acc: 0.7234, Test Acc: 0.7500\n",
      "Epoch: 720, Train Acc: 0.7266, Test Acc: 0.8000\n",
      "Epoch: 760, Train Acc: 0.7469, Test Acc: 0.8000\n"
     ]
    }
   ],
   "source": [
    "torch.manual_seed(124)\n",
    "model = GNN(hidden_channels=16)#(32)\n",
    "model = model.double()\n",
    "optimizer = torch.optim.Adam(model.parameters(), lr=0.01)# 0,01 for single batch\n",
    "#criterion = torch.nn.MSELoss()\n",
    "criterion = torch.nn.KLDivLoss(reduction='batchmean')\n",
    "\n",
    "#data = next(iter(train_loader))\n",
    "#model.train()\n",
    "acc = []\n",
    "#for epoch in range(1,800):\n",
    "def train():\n",
    "    model.train()\n",
    "    correct = 0\n",
    "    for data in train_loader:\n",
    "        target = data.y \n",
    "        optimizer.zero_grad()  # Clear gradients.\n",
    "        out = model(data)\n",
    "        loss = criterion(out,target)# Compute the loss\n",
    "        loss.backward()# Derive gradients.\n",
    "        optimizer.step()# Update parameters based on gradients.\n",
    "        \n",
    "    #####\n",
    "    \n",
    "    #    _, target_idx = torch.max(data.y,dim=1)\n",
    "    #    pred = out.argmax(dim=1)\n",
    "    #    correct += int((pred == target_idx).sum())\n",
    "    #acc.append(correct / len(train_loader.dataset))\n",
    "    #correct =0\n",
    "    #####\n",
    "    \n",
    "    \n",
    "def test(loader):\n",
    "    model.eval()\n",
    "\n",
    "    correct = 0\n",
    "    for data in loader:  # Iterate in batches over the training/test dataset.\n",
    "        out = model(data)\n",
    "        pred = out.argmax(dim=1)  # Use the class with highest probability.\n",
    "        target, target_idx = torch.max(data.y,dim=1)\n",
    "        correct += int((pred == target_idx).sum())  # Check against ground-truth labels.\n",
    "    return correct / len(loader.dataset)  # Derive ratio of correct predictions.\n",
    "\n",
    "train_list = []\n",
    "for epoch in range(1, 800):\n",
    "    train()\n",
    "    train_acc = test(train_loader)\n",
    "    test_acc = test(test_loader) \n",
    "    if epoch % 40==0:\n",
    "        print(f'Epoch: {epoch:03d}, Train Acc: {train_acc:.4f}, Test Acc: {test_acc:.4f}')\n",
    "        train_list.append([train_acc,test_acc])"
   ]
  },
  {
   "cell_type": "code",
   "execution_count": 128,
   "id": "theoretical-shipping",
   "metadata": {},
   "outputs": [
    {
     "data": {
      "text/plain": [
       "19"
      ]
     },
     "execution_count": 128,
     "metadata": {},
     "output_type": "execute_result"
    }
   ],
   "source": [
    "len(train_list)"
   ]
  },
  {
   "cell_type": "code",
   "execution_count": 135,
   "id": "crucial-member",
   "metadata": {},
   "outputs": [
    {
     "name": "stdout",
     "output_type": "stream",
     "text": [
      "[0.571875, 0.6171875, 0.634375, 0.6328125, 0.6421875, 0.646875, 0.6703125, 0.671875, 0.6859375, 0.6890625, 0.7015625, 0.709375, 0.725, 0.7234375, 0.73125, 0.696875, 0.7234375, 0.7265625, 0.746875]\n"
     ]
    }
   ],
   "source": [
    "import matplotlib.pyplot as plt\n",
    "train_acc = []\n",
    "test_acc = []\n",
    "\n",
    "for ix in range(len(train_list)):\n",
    "    train_acc.append(train_list[ix][0])\n",
    "    test_acc.append(train_list[ix][1])\n",
    "\n"
   ]
  },
  {
   "cell_type": "code",
   "execution_count": 137,
   "id": "final-reynolds",
   "metadata": {},
   "outputs": [
    {
     "data": {
      "text/plain": [
       "[<matplotlib.lines.Line2D at 0x7f6869881be0>]"
      ]
     },
     "execution_count": 137,
     "metadata": {},
     "output_type": "execute_result"
    },
    {
     "data": {
      "image/png": "[encoded data removed]",
      "text/plain": [
       "<Figure size 432x288 with 1 Axes>"
      ]
     },
     "metadata": {
      "needs_background": "light"
     },
     "output_type": "display_data"
    }
   ],
   "source": [
    "plt.plot(train_acc)\n",
    "plt.plot(test_acc)\n"
   ]
  },
  {
   "cell_type": "code",
   "execution_count": null,
   "id": "incorporate-crazy",
   "metadata": {},
   "outputs": [],
   "source": [
    "\n"
   ]
  }
 ],
 "metadata": {
  "kernelspec": {
   "display_name": "Python 3",
   "language": "python",
   "name": "python3"
  },
  "language_info": {
   "codemirror_mode": {
    "name": "ipython",
    "version": 3
   },
   "file_extension": ".py",
   "mimetype": "text/x-python",
   "name": "python",
   "nbconvert_exporter": "python",
   "pygments_lexer": "ipython3",
   "version": "3.8.8"
  }
 },
 "nbformat": 4,
 "nbformat_minor": 5
}
